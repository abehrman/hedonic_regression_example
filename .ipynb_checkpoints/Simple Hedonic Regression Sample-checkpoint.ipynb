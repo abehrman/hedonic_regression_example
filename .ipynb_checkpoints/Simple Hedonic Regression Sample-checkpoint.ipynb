{
 "cells": [
  {
   "cell_type": "code",
   "execution_count": 6,
   "metadata": {},
   "outputs": [],
   "source": [
    "import numpy as np\n",
    "import pandas as pd\n",
    "import matplotlib.pyplot as plt\n",
    "\n",
    "from sklearn.linear_model import LinearRegression"
   ]
  },
  {
   "cell_type": "code",
   "execution_count": 7,
   "metadata": {},
   "outputs": [],
   "source": [
    "model = LinearRegression()"
   ]
  },
  {
   "cell_type": "markdown",
   "metadata": {},
   "source": [
    "## Hedonic Regression"
   ]
  },
  {
   "cell_type": "markdown",
   "metadata": {},
   "source": [
    "We perform a hedonic regression to predict the price of a home based on three features.\n",
    "\n",
    "1. home price\n",
    "2. is the home located in a city\n",
    "3. does the home have a windmill"
   ]
  },
  {
   "cell_type": "code",
   "execution_count": 41,
   "metadata": {},
   "outputs": [],
   "source": [
    "base_home = 50_000\n",
    "\n",
    "home_1 = {\n",
    "    'name': 'Home_1',\n",
    "    'price': 60_000,\n",
    "    'city': 1,\n",
    "    'windmill': 0\n",
    "    \n",
    "}\n",
    "\n",
    "home_2 = {\n",
    "    'name': 'Home_2',\n",
    "    'price': 70_000,\n",
    "    'city': 0,\n",
    "    'windmill': 1\n",
    "}\n",
    "\n",
    "home_3 = {\n",
    "    'name': 'Home_2',\n",
    "    'price': 50_000,\n",
    "    'city': 0,\n",
    "    'windmill': 0\n",
    "}\n",
    "\n",
    "\n",
    "df = pd.DataFrame(data=[home_1, home_2, home_3]).set_index('name')"
   ]
  },
  {
   "cell_type": "markdown",
   "metadata": {},
   "source": [
    "### We run a linear regression model on the features"
   ]
  },
  {
   "cell_type": "code",
   "execution_count": 42,
   "metadata": {},
   "outputs": [],
   "source": [
    "fit = model.fit(X=df[['city','windmill']], y=df['price'])"
   ]
  },
  {
   "cell_type": "markdown",
   "metadata": {},
   "source": [
    "### and as expected we see that the two features, city and windwill, add `$10,000` and `$20,000` respectively."
   ]
  },
  {
   "cell_type": "code",
   "execution_count": 43,
   "metadata": {},
   "outputs": [
    {
     "data": {
      "text/plain": [
       "array([10000., 20000.])"
      ]
     },
     "execution_count": 43,
     "metadata": {},
     "output_type": "execute_result"
    }
   ],
   "source": [
    "fit.coef_"
   ]
  },
  {
   "cell_type": "markdown",
   "metadata": {},
   "source": [
    "### and the base home price is `$50,000`"
   ]
  },
  {
   "cell_type": "code",
   "execution_count": 27,
   "metadata": {},
   "outputs": [
    {
     "data": {
      "text/plain": [
       "50000.0"
      ]
     },
     "execution_count": 27,
     "metadata": {},
     "output_type": "execute_result"
    }
   ],
   "source": [
    "fit.intercept_"
   ]
  },
  {
   "cell_type": "code",
   "execution_count": 44,
   "metadata": {},
   "outputs": [],
   "source": [
    "pred = fit.predict(df[['city','windmill']])"
   ]
  }
 ],
 "metadata": {
  "kernelspec": {
   "display_name": "DataScience",
   "language": "python",
   "name": "ds"
  },
  "language_info": {
   "codemirror_mode": {
    "name": "ipython",
    "version": 3
   },
   "file_extension": ".py",
   "mimetype": "text/x-python",
   "name": "python",
   "nbconvert_exporter": "python",
   "pygments_lexer": "ipython3",
   "version": "3.7.3"
  }
 },
 "nbformat": 4,
 "nbformat_minor": 2
}
